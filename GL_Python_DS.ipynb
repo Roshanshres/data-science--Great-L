{
  "nbformat": 4,
  "nbformat_minor": 0,
  "metadata": {
    "colab": {
      "provenance": [],
      "authorship_tag": "ABX9TyMpCzX0abN8z9e+LoE+E4/c",
      "include_colab_link": true
    },
    "kernelspec": {
      "name": "python3",
      "display_name": "Python 3"
    },
    "language_info": {
      "name": "python"
    }
  },
  "cells": [
    {
      "cell_type": "markdown",
      "metadata": {
        "id": "view-in-github",
        "colab_type": "text"
      },
      "source": [
        "<a href=\"https://colab.research.google.com/github/Roshanshres/data-science--Great-L/blob/main/GL_Python_DS.ipynb\" target=\"_parent\"><img src=\"https://colab.research.google.com/assets/colab-badge.svg\" alt=\"Open In Colab\"/></a>"
      ]
    },
    {
      "cell_type": "code",
      "execution_count": null,
      "metadata": {
        "id": "gAIsQnQB8ECW"
      },
      "outputs": [],
      "source": []
    },
    {
      "cell_type": "markdown",
      "source": [
        "# **Variable **\n",
        "\n",
        "A variable is like a box in the computer’s memory where you can store a\n",
        "single value. If you want to use the result of an evaluated expression later in\n",
        "your program, you can save it inside a variable\n",
        "\n",
        "* Data or value can be stored in temporay storage space is called Variable.\n",
        "or Container to store value.\n",
        "* Every Variable is associated with the data type.\n",
        "* assigning the value\n",
        "* variable in python is dynamic\n",
        "*  When a new value is assigned to a variable,  \n",
        "the old one is forgotten\n",
        "\n"
      ],
      "metadata": {
        "id": "FyIy-pvN-nV9"
      }
    },
    {
      "cell_type": "markdown",
      "source": [],
      "metadata": {
        "id": "N0ko7kLbP7eW"
      }
    },
    {
      "cell_type": "code",
      "source": [
        "student = \"Jhon\"\n"
      ],
      "metadata": {
        "id": "w5Ka3_sCK88S"
      },
      "execution_count": null,
      "outputs": []
    },
    {
      "cell_type": "code",
      "source": [
        "student"
      ],
      "metadata": {
        "colab": {
          "base_uri": "https://localhost:8080/",
          "height": 35
        },
        "id": "Be6P-gv4LAog",
        "outputId": "016e67af-0833-4820-fcd7-e4c1c5192c9d"
      },
      "execution_count": null,
      "outputs": [
        {
          "output_type": "execute_result",
          "data": {
            "text/plain": [
              "'Jhon'"
            ],
            "application/vnd.google.colaboratory.intrinsic+json": {
              "type": "string"
            }
          },
          "metadata": {},
          "execution_count": 2
        }
      ]
    },
    {
      "cell_type": "code",
      "source": [
        "student = \"Sam\"  # variable are dynamic so its temporary it change as the value change."
      ],
      "metadata": {
        "id": "xIbGuoTRMEvm"
      },
      "execution_count": null,
      "outputs": []
    },
    {
      "cell_type": "code",
      "source": [
        "student"
      ],
      "metadata": {
        "colab": {
          "base_uri": "https://localhost:8080/",
          "height": 35
        },
        "id": "bnCa6q8BLMFe",
        "outputId": "6a5fd043-fd9b-4f30-9946-323de109cca7"
      },
      "execution_count": null,
      "outputs": [
        {
          "output_type": "execute_result",
          "data": {
            "text/plain": [
              "'Sam'"
            ],
            "application/vnd.google.colaboratory.intrinsic+json": {
              "type": "string"
            }
          },
          "metadata": {},
          "execution_count": 4
        }
      ]
    },
    {
      "cell_type": "code",
      "source": [
        "spam = 42\n"
      ],
      "metadata": {
        "id": "qB3QUJt7LNAh"
      },
      "execution_count": null,
      "outputs": []
    },
    {
      "cell_type": "code",
      "source": [
        "spam"
      ],
      "metadata": {
        "colab": {
          "base_uri": "https://localhost:8080/"
        },
        "id": "vkvmwzxuWWFI",
        "outputId": "b0ac4067-4057-417b-8e5c-4a0d31342e6d"
      },
      "execution_count": null,
      "outputs": [
        {
          "output_type": "execute_result",
          "data": {
            "text/plain": [
              "42"
            ]
          },
          "metadata": {},
          "execution_count": 6
        }
      ]
    },
    {
      "cell_type": "code",
      "source": [
        "egg = 20\n"
      ],
      "metadata": {
        "id": "gcOcai5-WXsI"
      },
      "execution_count": null,
      "outputs": []
    },
    {
      "cell_type": "code",
      "source": [
        "egg"
      ],
      "metadata": {
        "colab": {
          "base_uri": "https://localhost:8080/"
        },
        "id": "4_hUAkoEWoSC",
        "outputId": "08c6057b-5af5-4145-bf78-902615d749bf"
      },
      "execution_count": null,
      "outputs": [
        {
          "output_type": "execute_result",
          "data": {
            "text/plain": [
              "20"
            ]
          },
          "metadata": {},
          "execution_count": 8
        }
      ]
    },
    {
      "cell_type": "code",
      "source": [
        "egg + spam #"
      ],
      "metadata": {
        "colab": {
          "base_uri": "https://localhost:8080/"
        },
        "id": "jgIw26BnWor7",
        "outputId": "7f7d2048-c4e7-4a22-9e66-88cfc3a45d14"
      },
      "execution_count": null,
      "outputs": [
        {
          "output_type": "execute_result",
          "data": {
            "text/plain": [
              "62"
            ]
          },
          "metadata": {},
          "execution_count": 9
        }
      ]
    },
    {
      "cell_type": "markdown",
      "source": [
        "A variable is initialized (or created) the first time a value is stored in it u.\n",
        "After that, you can use it in expressions with other variables and values v.\n",
        "When a variable is assigned a new value w, the old value is forgotten, which\n",
        "is why spam evaluated to 42 instead of 40 at the end of the example. This is\n",
        "called overwriting the variable."
      ],
      "metadata": {
        "id": "HIl8KiFQW1cc"
      }
    },
    {
      "cell_type": "markdown",
      "source": [
        "You can name a variable\n",
        "anything as long as it obeys the following three rules:\n",
        " 1. It can be only one word.\n",
        " 2. It can use only letters, numbers, and the underscore (_) character.\n",
        " 3. It can’t begin with a number."
      ],
      "metadata": {
        "id": "AV_5_st2XjPi"
      }
    },
    {
      "cell_type": "markdown",
      "source": [
        " “Consistency with the style guide is important. But most impor\n",
        "tantly: know when to be inconsistent—sometimes the style guide\n",
        "just doesn’t apply. When in doubt, use your best judgment.”"
      ],
      "metadata": {
        "id": "mMgJzkGL8H7Z"
      }
    },
    {
      "cell_type": "code",
      "source": [
        "# This program says hello and asks for my name\n",
        "print (\"hello\")\n",
        "print(\"What is your name?\") #ask"
      ],
      "metadata": {
        "id": "p3x_wT6WWrqK",
        "colab": {
          "base_uri": "https://localhost:8080/"
        },
        "outputId": "ac167250-d755-4400-b73a-54356bb52e5b"
      },
      "execution_count": 2,
      "outputs": [
        {
          "output_type": "stream",
          "name": "stdout",
          "text": [
            "hello\n",
            "What is your name?\n"
          ]
        }
      ]
    },
    {
      "cell_type": "code",
      "source": [
        "myName = input()\n",
        "print('It is good to meet you, ' + myName)\n"
      ],
      "metadata": {
        "colab": {
          "base_uri": "https://localhost:8080/"
        },
        "id": "gKD2IqLx8f97",
        "outputId": "a5b427d8-0f2e-47db-f2c1-b94c740562bd"
      },
      "execution_count": 4,
      "outputs": [
        {
          "output_type": "stream",
          "name": "stdout",
          "text": [
            "roshan\n",
            "It is good to meet you, roshan\n"
          ]
        }
      ]
    },
    {
      "cell_type": "code",
      "source": [
        "print('the length of your name is: ')\n",
        "print(len(myName))"
      ],
      "metadata": {
        "colab": {
          "base_uri": "https://localhost:8080/"
        },
        "id": "Hi0_je328s9y",
        "outputId": "2ef8ce3e-b050-4a1f-cfae-3c4519af1309"
      },
      "execution_count": 5,
      "outputs": [
        {
          "output_type": "stream",
          "name": "stdout",
          "text": [
            "the length of your name is: \n",
            "6\n"
          ]
        }
      ]
    },
    {
      "cell_type": "markdown",
      "source": [
        "Data type\n"
      ],
      "metadata": {
        "id": "qfRW8g0UADEw"
      }
    },
    {
      "cell_type": "markdown",
      "source": [
        "The str(), int(), and float() Functions"
      ],
      "metadata": {
        "id": "AUyP56XKBV5B"
      }
    },
    {
      "cell_type": "code",
      "source": [
        "a1 = 10 #int\n",
        "a1"
      ],
      "metadata": {
        "colab": {
          "base_uri": "https://localhost:8080/"
        },
        "id": "hTOIPPJG9BZi",
        "outputId": "663ffc64-bace-4371-da55-b4feb059e1da"
      },
      "execution_count": 13,
      "outputs": [
        {
          "output_type": "execute_result",
          "data": {
            "text/plain": [
              "10"
            ]
          },
          "metadata": {},
          "execution_count": 13
        }
      ]
    },
    {
      "cell_type": "code",
      "source": [
        "type(a1)"
      ],
      "metadata": {
        "colab": {
          "base_uri": "https://localhost:8080/"
        },
        "id": "xFTmTv0eAGaq",
        "outputId": "8298d836-94d5-4a4c-e80d-200af4b336f3"
      },
      "execution_count": 7,
      "outputs": [
        {
          "output_type": "execute_result",
          "data": {
            "text/plain": [
              "int"
            ]
          },
          "metadata": {},
          "execution_count": 7
        }
      ]
    },
    {
      "cell_type": "code",
      "source": [
        "a1 = 3.14 #float\n",
        "a1"
      ],
      "metadata": {
        "colab": {
          "base_uri": "https://localhost:8080/"
        },
        "id": "axMlMCdbAIk8",
        "outputId": "c6afc092-04c6-4fa0-e07e-27352af97b9b"
      },
      "execution_count": 10,
      "outputs": [
        {
          "output_type": "execute_result",
          "data": {
            "text/plain": [
              "3.14"
            ]
          },
          "metadata": {},
          "execution_count": 10
        }
      ]
    },
    {
      "cell_type": "code",
      "source": [
        "type (a1)"
      ],
      "metadata": {
        "colab": {
          "base_uri": "https://localhost:8080/"
        },
        "id": "M5fIAz53ANGq",
        "outputId": "34473fbe-8c40-4e31-9ec8-aec994591664"
      },
      "execution_count": 11,
      "outputs": [
        {
          "output_type": "execute_result",
          "data": {
            "text/plain": [
              "float"
            ]
          },
          "metadata": {},
          "execution_count": 11
        }
      ]
    },
    {
      "cell_type": "code",
      "source": [
        "a1 = True\n",
        "a1"
      ],
      "metadata": {
        "colab": {
          "base_uri": "https://localhost:8080/"
        },
        "id": "9UkEQfHhAOTn",
        "outputId": "1b9a6be6-149d-4a4d-94b2-51e2aa97ce4d"
      },
      "execution_count": 14,
      "outputs": [
        {
          "output_type": "execute_result",
          "data": {
            "text/plain": [
              "True"
            ]
          },
          "metadata": {},
          "execution_count": 14
        }
      ]
    },
    {
      "cell_type": "code",
      "source": [
        "type(a1)"
      ],
      "metadata": {
        "colab": {
          "base_uri": "https://localhost:8080/"
        },
        "id": "oTkEhrZhAZiy",
        "outputId": "be2b6269-f44b-4743-f77a-fb5770abd918"
      },
      "execution_count": 15,
      "outputs": [
        {
          "output_type": "execute_result",
          "data": {
            "text/plain": [
              "bool"
            ]
          },
          "metadata": {},
          "execution_count": 15
        }
      ]
    },
    {
      "cell_type": "code",
      "source": [
        "a1 = \"hello world\"\n",
        "a1"
      ],
      "metadata": {
        "colab": {
          "base_uri": "https://localhost:8080/",
          "height": 35
        },
        "id": "DSyWSXNnAa_V",
        "outputId": "d4bd72a3-9493-4028-a374-04c67fc2cfe1"
      },
      "execution_count": 16,
      "outputs": [
        {
          "output_type": "execute_result",
          "data": {
            "text/plain": [
              "'hello world'"
            ],
            "application/vnd.google.colaboratory.intrinsic+json": {
              "type": "string"
            }
          },
          "metadata": {},
          "execution_count": 16
        }
      ]
    },
    {
      "cell_type": "code",
      "source": [
        "type(a1)"
      ],
      "metadata": {
        "colab": {
          "base_uri": "https://localhost:8080/"
        },
        "id": "IX7ay6hrAgqm",
        "outputId": "a293f896-285b-4b0c-c6c5-1b51ab9defa5"
      },
      "execution_count": 17,
      "outputs": [
        {
          "output_type": "execute_result",
          "data": {
            "text/plain": [
              "str"
            ]
          },
          "metadata": {},
          "execution_count": 17
        }
      ]
    },
    {
      "cell_type": "code",
      "source": [
        "a1 = 3+4j\n",
        "a1"
      ],
      "metadata": {
        "colab": {
          "base_uri": "https://localhost:8080/"
        },
        "id": "miu2y03vAibb",
        "outputId": "93a3b071-53a4-404a-c4da-bb1c672b5064"
      },
      "execution_count": 19,
      "outputs": [
        {
          "output_type": "execute_result",
          "data": {
            "text/plain": [
              "(3+4j)"
            ]
          },
          "metadata": {},
          "execution_count": 19
        }
      ]
    },
    {
      "cell_type": "code",
      "source": [
        "type(a1)"
      ],
      "metadata": {
        "colab": {
          "base_uri": "https://localhost:8080/"
        },
        "id": "zIp1ye1vAo4I",
        "outputId": "f6ed48ee-4f5c-49a0-be3c-792dacadd7d7"
      },
      "execution_count": 20,
      "outputs": [
        {
          "output_type": "execute_result",
          "data": {
            "text/plain": [
              "complex"
            ]
          },
          "metadata": {},
          "execution_count": 20
        }
      ]
    },
    {
      "cell_type": "markdown",
      "source": [],
      "metadata": {
        "id": "sBK2BmIJBR6J"
      }
    },
    {
      "cell_type": "code",
      "source": [
        "str(29)"
      ],
      "metadata": {
        "colab": {
          "base_uri": "https://localhost:8080/",
          "height": 35
        },
        "id": "Mj3hO4bNAwWu",
        "outputId": "4ecb197b-c107-4c25-9433-97f697f51cf8"
      },
      "execution_count": 21,
      "outputs": [
        {
          "output_type": "execute_result",
          "data": {
            "text/plain": [
              "'29'"
            ],
            "application/vnd.google.colaboratory.intrinsic+json": {
              "type": "string"
            }
          },
          "metadata": {},
          "execution_count": 21
        }
      ]
    },
    {
      "cell_type": "code",
      "source": [
        "print('I am ' + str(29) + 'years old.')"
      ],
      "metadata": {
        "colab": {
          "base_uri": "https://localhost:8080/"
        },
        "id": "sj1jBxF7Beu0",
        "outputId": "a5868525-cbb6-49b8-d5dd-2a3382175aaf"
      },
      "execution_count": 23,
      "outputs": [
        {
          "output_type": "stream",
          "name": "stdout",
          "text": [
            "I am 29years old.\n"
          ]
        }
      ]
    },
    {
      "cell_type": "markdown",
      "source": [
        " Because str(29) evaluates to '29', the expression 'I am ' + str(29) +\n",
        "' years old.' evaluates to 'I am ' + '29' + ' years old.', which in turn\n",
        "evaluates to 'I am 29 years old.'. This is the value that is passed to the\n",
        "print() function."
      ],
      "metadata": {
        "id": "_U30ML63BsaQ"
      }
    },
    {
      "cell_type": "code",
      "source": [
        "#Boolean Value\n",
        "spam = True\n",
        "spam\n"
      ],
      "metadata": {
        "colab": {
          "base_uri": "https://localhost:8080/"
        },
        "id": "0K-AO8oZQTJr",
        "outputId": "9bbde185-1e2f-4ff3-f8c0-4b08ebfb9d78"
      },
      "execution_count": 1,
      "outputs": [
        {
          "output_type": "execute_result",
          "data": {
            "text/plain": [
              "True"
            ]
          },
          "metadata": {},
          "execution_count": 1
        }
      ]
    },
    {
      "cell_type": "markdown",
      "source": [
        "# Operators"
      ],
      "metadata": {
        "id": "YsnPSfNqB5_o"
      }
    },
    {
      "cell_type": "markdown",
      "source": [
        "comparison operators\n",
        "Comparison operators compare two values and evaluate down to a single\n",
        "Boolean value.\n"
      ],
      "metadata": {
        "id": "5bfQLE8ISycL"
      }
    },
    {
      "cell_type": "markdown",
      "source": [
        "The or Operator’s Truth Table\n",
        "  |Operator | Meaning\n",
        "|----------|----------|\n",
        "| ==       | Equal to    |\n",
        "|!=    |Not equal to    |\n"
      ],
      "metadata": {
        "id": "z5OG1lLsTJnJ"
      }
    },
    {
      "cell_type": "markdown",
      "source": [
        "| Expression         | Evaluates to |\n",
        "|--------------------|--------------|\n",
        "| True OR True       | True         |\n",
        "| True OR False      | True         |\n",
        "| False OR True      | True         |\n",
        "| False OR False     | False        |\n"
      ],
      "metadata": {
        "id": "WjEh_TJATpYS"
      }
    },
    {
      "cell_type": "code",
      "source": [],
      "metadata": {
        "id": "kBbYzmN5SyDr"
      },
      "execution_count": null,
      "outputs": []
    },
    {
      "cell_type": "markdown",
      "source": [
        "| Expression         | Evaluates to |\n",
        "|--------------------|--------------|\n",
        "| True AND True      | True         |\n",
        "| True AND False     | False        |\n",
        "| False AND True     | False        |\n",
        "| False AND False    | False        |\n"
      ],
      "metadata": {
        "id": "7gxx6XbkUC3M"
      }
    },
    {
      "cell_type": "code",
      "source": [
        "#"
      ],
      "metadata": {
        "id": "l9RdeJQAB5xv"
      },
      "execution_count": null,
      "outputs": []
    },
    {
      "cell_type": "code",
      "source": [
        "(4<3) and (5<6)\n"
      ],
      "metadata": {
        "colab": {
          "base_uri": "https://localhost:8080/"
        },
        "id": "I0lOePxABlH8",
        "outputId": "5b2f6d68-a5a8-4192-d5dc-971e351dae24"
      },
      "execution_count": 2,
      "outputs": [
        {
          "output_type": "execute_result",
          "data": {
            "text/plain": [
              "False"
            ]
          },
          "metadata": {},
          "execution_count": 2
        }
      ]
    },
    {
      "cell_type": "code",
      "source": [
        "(4<5) and (9<6)\n"
      ],
      "metadata": {
        "colab": {
          "base_uri": "https://localhost:8080/"
        },
        "id": "reJcZbVoUKrQ",
        "outputId": "5ceb8375-ede6-4d9d-d933-2bc0af720aef"
      },
      "execution_count": 3,
      "outputs": [
        {
          "output_type": "execute_result",
          "data": {
            "text/plain": [
              "False"
            ]
          },
          "metadata": {},
          "execution_count": 3
        }
      ]
    },
    {
      "cell_type": "code",
      "source": [
        "(1==2) or (2==2)"
      ],
      "metadata": {
        "colab": {
          "base_uri": "https://localhost:8080/"
        },
        "id": "igYYdPEoUQRA",
        "outputId": "889106da-ab7b-4293-ea24-ce52b76166b9"
      },
      "execution_count": 4,
      "outputs": [
        {
          "output_type": "execute_result",
          "data": {
            "text/plain": [
              "True"
            ]
          },
          "metadata": {},
          "execution_count": 4
        }
      ]
    },
    {
      "cell_type": "code",
      "source": [],
      "metadata": {
        "id": "zs0d0o28UVgw"
      },
      "execution_count": null,
      "outputs": []
    },
    {
      "cell_type": "markdown",
      "source": [
        " elements of flow control\n",
        " * Flow control statements often start with a part called the condition, and all\n",
        "are followed by a block of code called the clause. Before you learn about\n",
        "Python’s specific flow control statements, I’ll cover what a condition and a\n",
        "block are.\n",
        "* Conditions:\n",
        " The Boolean expressions you’ve seen so far could all be considered con\n",
        "ditions, which are the same thing as expressions; condition is just a more\n",
        "specific name in the context of flow control statements. Conditions always\n",
        "evaluate down to a Boolean value, True or False. A flow control statement\n",
        "decides what to do based on whether its condition is True or False, and\n",
        "almost every flow control statement uses a condition"
      ],
      "metadata": {
        "id": "ZZGzYs1JUdMh"
      }
    }
  ]
}