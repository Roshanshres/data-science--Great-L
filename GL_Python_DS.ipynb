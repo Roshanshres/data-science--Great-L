{
  "cells": [
    {
      "cell_type": "markdown",
      "metadata": {
        "id": "view-in-github",
        "colab_type": "text"
      },
      "source": [
        "<a href=\"https://colab.research.google.com/github/Roshanshres/data-science--Great-L/blob/main/GL_Python_DS.ipynb\" target=\"_parent\"><img src=\"https://colab.research.google.com/assets/colab-badge.svg\" alt=\"Open In Colab\"/></a>"
      ]
    },
    {
      "cell_type": "code",
      "execution_count": null,
      "metadata": {
        "id": "gAIsQnQB8ECW"
      },
      "outputs": [],
      "source": []
    },
    {
      "cell_type": "markdown",
      "metadata": {
        "id": "FyIy-pvN-nV9"
      },
      "source": [
        "# **Variable **\n",
        "\n",
        "A variable is like a box in the computer’s memory where you can store a\n",
        "single value. If you want to use the result of an evaluated expression later in\n",
        "your program, you can save it inside a variable\n",
        "\n",
        "* Data or value can be stored in temporay storage space is called Variable.\n",
        "or Container to store value.\n",
        "* Every Variable is associated with the data type.\n",
        "* assigning the value\n",
        "* variable in python is dynamic\n",
        "*  When a new value is assigned to a variable,  \n",
        "the old one is forgotten\n",
        "\n"
      ]
    },
    {
      "cell_type": "markdown",
      "metadata": {
        "id": "N0ko7kLbP7eW"
      },
      "source": []
    },
    {
      "cell_type": "code",
      "execution_count": null,
      "metadata": {
        "id": "w5Ka3_sCK88S"
      },
      "outputs": [],
      "source": [
        "student = \"Jhon\"\n"
      ]
    },
    {
      "cell_type": "code",
      "execution_count": null,
      "metadata": {
        "colab": {
          "base_uri": "https://localhost:8080/",
          "height": 35
        },
        "id": "Be6P-gv4LAog",
        "outputId": "6b8973d7-c108-4c4d-8bf2-b35ea9d5b3e7"
      },
      "outputs": [
        {
          "data": {
            "application/vnd.google.colaboratory.intrinsic+json": {
              "type": "string"
            },
            "text/plain": [
              "'Jhon'"
            ]
          },
          "execution_count": 6,
          "metadata": {},
          "output_type": "execute_result"
        }
      ],
      "source": [
        "student"
      ]
    },
    {
      "cell_type": "code",
      "execution_count": null,
      "metadata": {
        "id": "xIbGuoTRMEvm"
      },
      "outputs": [],
      "source": [
        "student = \"Sam\"  # variable are dynamic so its temporary it change as the value change."
      ]
    },
    {
      "cell_type": "code",
      "execution_count": null,
      "metadata": {
        "colab": {
          "base_uri": "https://localhost:8080/",
          "height": 35
        },
        "id": "bnCa6q8BLMFe",
        "outputId": "6cfc2049-c686-4f11-836f-a2e2aa86e886"
      },
      "outputs": [
        {
          "data": {
            "application/vnd.google.colaboratory.intrinsic+json": {
              "type": "string"
            },
            "text/plain": [
              "'Sam'"
            ]
          },
          "execution_count": 8,
          "metadata": {},
          "output_type": "execute_result"
        }
      ],
      "source": [
        "student"
      ]
    },
    {
      "cell_type": "code",
      "execution_count": null,
      "metadata": {
        "id": "qB3QUJt7LNAh"
      },
      "outputs": [],
      "source": [
        "spam = 42\n"
      ]
    },
    {
      "cell_type": "code",
      "execution_count": null,
      "metadata": {
        "colab": {
          "base_uri": "https://localhost:8080/"
        },
        "id": "vkvmwzxuWWFI",
        "outputId": "e88c91d1-aaee-4d1a-b70c-cdc34543244a"
      },
      "outputs": [
        {
          "data": {
            "text/plain": [
              "42"
            ]
          },
          "execution_count": 10,
          "metadata": {},
          "output_type": "execute_result"
        }
      ],
      "source": [
        "spam"
      ]
    },
    {
      "cell_type": "code",
      "execution_count": null,
      "metadata": {
        "id": "gcOcai5-WXsI"
      },
      "outputs": [],
      "source": [
        "egg = 20\n"
      ]
    },
    {
      "cell_type": "code",
      "execution_count": null,
      "metadata": {
        "colab": {
          "base_uri": "https://localhost:8080/"
        },
        "id": "4_hUAkoEWoSC",
        "outputId": "17130336-ae45-4ede-a988-461aec47a5c2"
      },
      "outputs": [
        {
          "data": {
            "text/plain": [
              "20"
            ]
          },
          "execution_count": 12,
          "metadata": {},
          "output_type": "execute_result"
        }
      ],
      "source": [
        "egg"
      ]
    },
    {
      "cell_type": "code",
      "execution_count": null,
      "metadata": {
        "colab": {
          "base_uri": "https://localhost:8080/"
        },
        "id": "jgIw26BnWor7",
        "outputId": "45e06208-016f-46c8-d43a-9d037eee53b6"
      },
      "outputs": [
        {
          "data": {
            "text/plain": [
              "62"
            ]
          },
          "execution_count": 13,
          "metadata": {},
          "output_type": "execute_result"
        }
      ],
      "source": [
        "egg + spam #"
      ]
    },
    {
      "cell_type": "markdown",
      "metadata": {
        "id": "HIl8KiFQW1cc"
      },
      "source": [
        "A variable is initialized (or created) the first time a value is stored in it u.\n",
        "After that, you can use it in expressions with other variables and values v.\n",
        "When a variable is assigned a new value w, the old value is forgotten, which\n",
        "is why spam evaluated to 42 instead of 40 at the end of the example. This is\n",
        "called overwriting the variable."
      ]
    },
    {
      "cell_type": "markdown",
      "metadata": {
        "id": "AV_5_st2XjPi"
      },
      "source": [
        "You can name a variable\n",
        "anything as long as it obeys the following three rules:\n",
        " 1. It can be only one word.\n",
        " 2. It can use only letters, numbers, and the underscore (_) character.\n",
        " 3. It can’t begin with a number."
      ]
    },
    {
      "cell_type": "markdown",
      "metadata": {
        "id": "mMgJzkGL8H7Z"
      },
      "source": [
        " “Consistency with the style guide is important. But most impor\n",
        "tantly: know when to be inconsistent—sometimes the style guide\n",
        "just doesn’t apply. When in doubt, use your best judgment.”"
      ]
    },
    {
      "cell_type": "code",
      "execution_count": null,
      "metadata": {
        "colab": {
          "base_uri": "https://localhost:8080/"
        },
        "id": "p3x_wT6WWrqK",
        "outputId": "cda9b31b-5ab5-43a9-883f-41924b64ef4a"
      },
      "outputs": [
        {
          "name": "stdout",
          "output_type": "stream",
          "text": [
            "hello\n",
            "What is your name?\n"
          ]
        }
      ],
      "source": [
        "# This program says hello and asks for my name\n",
        "print (\"hello\")\n",
        "print(\"What is your name?\") #ask"
      ]
    },
    {
      "cell_type": "code",
      "execution_count": null,
      "metadata": {
        "colab": {
          "base_uri": "https://localhost:8080/"
        },
        "id": "gKD2IqLx8f97",
        "outputId": "66296aa8-1683-4cd3-f619-d01b68409840"
      },
      "outputs": [
        {
          "name": "stdout",
          "output_type": "stream",
          "text": [
            "tina\n",
            "It is good to meet you, tina\n"
          ]
        }
      ],
      "source": [
        "myName = input()\n",
        "print('It is good to meet you, ' + myName)\n"
      ]
    },
    {
      "cell_type": "code",
      "execution_count": null,
      "metadata": {
        "colab": {
          "base_uri": "https://localhost:8080/"
        },
        "id": "Hi0_je328s9y",
        "outputId": "bd7cc1d7-6d47-4d2a-a6fe-eef522242072"
      },
      "outputs": [
        {
          "name": "stdout",
          "output_type": "stream",
          "text": [
            "the length of your name is: \n",
            "4\n"
          ]
        }
      ],
      "source": [
        "print('the length of your name is: ')\n",
        "print(len(myName))"
      ]
    },
    {
      "cell_type": "markdown",
      "metadata": {
        "id": "qfRW8g0UADEw"
      },
      "source": [
        "Data type\n"
      ]
    },
    {
      "cell_type": "markdown",
      "metadata": {
        "id": "AUyP56XKBV5B"
      },
      "source": [
        "The str(), int(), and float() Functions"
      ]
    },
    {
      "cell_type": "code",
      "execution_count": null,
      "metadata": {
        "colab": {
          "base_uri": "https://localhost:8080/"
        },
        "id": "hTOIPPJG9BZi",
        "outputId": "9d3fa44b-7460-4f56-bc39-e884d5827cc6"
      },
      "outputs": [
        {
          "data": {
            "text/plain": [
              "10"
            ]
          },
          "execution_count": 17,
          "metadata": {},
          "output_type": "execute_result"
        }
      ],
      "source": [
        "a1 = 10 #int\n",
        "a1"
      ]
    },
    {
      "cell_type": "code",
      "execution_count": null,
      "metadata": {
        "colab": {
          "base_uri": "https://localhost:8080/"
        },
        "id": "xFTmTv0eAGaq",
        "outputId": "33f20cc1-6cda-44b4-97bc-23e1304b6f1e"
      },
      "outputs": [
        {
          "data": {
            "text/plain": [
              "int"
            ]
          },
          "execution_count": 18,
          "metadata": {},
          "output_type": "execute_result"
        }
      ],
      "source": [
        "type(a1)"
      ]
    },
    {
      "cell_type": "code",
      "execution_count": null,
      "metadata": {
        "colab": {
          "base_uri": "https://localhost:8080/"
        },
        "id": "axMlMCdbAIk8",
        "outputId": "f1f4f895-50d1-43fe-9e39-a04d8889fcf5"
      },
      "outputs": [
        {
          "data": {
            "text/plain": [
              "3.14"
            ]
          },
          "execution_count": 19,
          "metadata": {},
          "output_type": "execute_result"
        }
      ],
      "source": [
        "a1 = 3.14 #float\n",
        "a1"
      ]
    },
    {
      "cell_type": "code",
      "execution_count": null,
      "metadata": {
        "colab": {
          "base_uri": "https://localhost:8080/"
        },
        "id": "M5fIAz53ANGq",
        "outputId": "40e0f70b-7382-417e-b550-398eec61077c"
      },
      "outputs": [
        {
          "data": {
            "text/plain": [
              "float"
            ]
          },
          "execution_count": 20,
          "metadata": {},
          "output_type": "execute_result"
        }
      ],
      "source": [
        "type (a1)"
      ]
    },
    {
      "cell_type": "code",
      "execution_count": null,
      "metadata": {
        "colab": {
          "base_uri": "https://localhost:8080/"
        },
        "id": "9UkEQfHhAOTn",
        "outputId": "5f5eb6f2-90de-42c7-df0f-03e550e904b5"
      },
      "outputs": [
        {
          "data": {
            "text/plain": [
              "True"
            ]
          },
          "execution_count": 21,
          "metadata": {},
          "output_type": "execute_result"
        }
      ],
      "source": [
        "a1 = True\n",
        "a1"
      ]
    },
    {
      "cell_type": "code",
      "execution_count": null,
      "metadata": {
        "colab": {
          "base_uri": "https://localhost:8080/"
        },
        "id": "oTkEhrZhAZiy",
        "outputId": "8201eff7-48a3-4b3b-d835-3305480130e4"
      },
      "outputs": [
        {
          "data": {
            "text/plain": [
              "bool"
            ]
          },
          "execution_count": 22,
          "metadata": {},
          "output_type": "execute_result"
        }
      ],
      "source": [
        "type(a1)"
      ]
    },
    {
      "cell_type": "code",
      "execution_count": null,
      "metadata": {
        "colab": {
          "base_uri": "https://localhost:8080/",
          "height": 35
        },
        "id": "DSyWSXNnAa_V",
        "outputId": "b01595fa-5310-4190-9c1e-341099eb5eaa"
      },
      "outputs": [
        {
          "data": {
            "application/vnd.google.colaboratory.intrinsic+json": {
              "type": "string"
            },
            "text/plain": [
              "'hello world'"
            ]
          },
          "execution_count": 23,
          "metadata": {},
          "output_type": "execute_result"
        }
      ],
      "source": [
        "a1 = \"hello world\"\n",
        "a1"
      ]
    },
    {
      "cell_type": "code",
      "execution_count": null,
      "metadata": {
        "colab": {
          "base_uri": "https://localhost:8080/"
        },
        "id": "IX7ay6hrAgqm",
        "outputId": "75e11379-952f-452b-9e90-5997af7a9c6f"
      },
      "outputs": [
        {
          "data": {
            "text/plain": [
              "str"
            ]
          },
          "execution_count": 24,
          "metadata": {},
          "output_type": "execute_result"
        }
      ],
      "source": [
        "type(a1)"
      ]
    },
    {
      "cell_type": "code",
      "execution_count": null,
      "metadata": {
        "colab": {
          "base_uri": "https://localhost:8080/"
        },
        "id": "miu2y03vAibb",
        "outputId": "e4c2a311-32bc-4c47-fd87-148a813520c0"
      },
      "outputs": [
        {
          "data": {
            "text/plain": [
              "(3+4j)"
            ]
          },
          "execution_count": 25,
          "metadata": {},
          "output_type": "execute_result"
        }
      ],
      "source": [
        "a1 = 3+4j\n",
        "a1"
      ]
    },
    {
      "cell_type": "code",
      "execution_count": null,
      "metadata": {
        "colab": {
          "base_uri": "https://localhost:8080/"
        },
        "id": "zIp1ye1vAo4I",
        "outputId": "cef10006-2167-47bd-e71f-184f581f221e"
      },
      "outputs": [
        {
          "data": {
            "text/plain": [
              "complex"
            ]
          },
          "execution_count": 26,
          "metadata": {},
          "output_type": "execute_result"
        }
      ],
      "source": [
        "type(a1)"
      ]
    },
    {
      "cell_type": "markdown",
      "metadata": {
        "id": "sBK2BmIJBR6J"
      },
      "source": []
    },
    {
      "cell_type": "code",
      "execution_count": null,
      "metadata": {
        "colab": {
          "base_uri": "https://localhost:8080/",
          "height": 35
        },
        "id": "Mj3hO4bNAwWu",
        "outputId": "64e4c4ee-64a9-49c2-b981-bc3cc578e69a"
      },
      "outputs": [
        {
          "data": {
            "application/vnd.google.colaboratory.intrinsic+json": {
              "type": "string"
            },
            "text/plain": [
              "'29'"
            ]
          },
          "execution_count": 27,
          "metadata": {},
          "output_type": "execute_result"
        }
      ],
      "source": [
        "str(29)"
      ]
    },
    {
      "cell_type": "code",
      "execution_count": null,
      "metadata": {
        "colab": {
          "base_uri": "https://localhost:8080/"
        },
        "id": "sj1jBxF7Beu0",
        "outputId": "a4944eab-6d17-41cb-ea65-a62c68cde203"
      },
      "outputs": [
        {
          "name": "stdout",
          "output_type": "stream",
          "text": [
            "I am 29years old.\n"
          ]
        }
      ],
      "source": [
        "print('I am ' + str(29) + 'years old.')"
      ]
    },
    {
      "cell_type": "markdown",
      "metadata": {
        "id": "_U30ML63BsaQ"
      },
      "source": [
        " Because str(29) evaluates to '29', the expression 'I am ' + str(29) +\n",
        "' years old.' evaluates to 'I am ' + '29' + ' years old.', which in turn\n",
        "evaluates to 'I am 29 years old.'. This is the value that is passed to the\n",
        "print() function."
      ]
    },
    {
      "cell_type": "code",
      "execution_count": null,
      "metadata": {
        "colab": {
          "base_uri": "https://localhost:8080/"
        },
        "id": "0K-AO8oZQTJr",
        "outputId": "e9dd0654-1845-493d-cada-34b828ce3c3b"
      },
      "outputs": [
        {
          "data": {
            "text/plain": [
              "True"
            ]
          },
          "execution_count": 29,
          "metadata": {},
          "output_type": "execute_result"
        }
      ],
      "source": [
        "#Boolean Value\n",
        "spam = True\n",
        "spam\n"
      ]
    },
    {
      "cell_type": "markdown",
      "metadata": {
        "id": "YsnPSfNqB5_o"
      },
      "source": [
        "# Operators"
      ]
    },
    {
      "cell_type": "markdown",
      "metadata": {
        "id": "5bfQLE8ISycL"
      },
      "source": [
        "comparison operators\n",
        "Comparison operators compare two values and evaluate down to a single\n",
        "Boolean value.\n"
      ]
    },
    {
      "cell_type": "markdown",
      "metadata": {
        "id": "z5OG1lLsTJnJ"
      },
      "source": [
        "The or Operator’s Truth Table\n",
        "  |Operator | Meaning\n",
        "|----------|----------|\n",
        "| ==       | Equal to    |\n",
        "|!=    |Not equal to    |\n"
      ]
    },
    {
      "cell_type": "markdown",
      "metadata": {
        "id": "WjEh_TJATpYS"
      },
      "source": [
        "| Expression         | Evaluates to |\n",
        "|--------------------|--------------|\n",
        "| True OR True       | True         |\n",
        "| True OR False      | True         |\n",
        "| False OR True      | True         |\n",
        "| False OR False     | False        |\n"
      ]
    },
    {
      "cell_type": "code",
      "execution_count": null,
      "metadata": {
        "id": "kBbYzmN5SyDr"
      },
      "outputs": [],
      "source": []
    },
    {
      "cell_type": "markdown",
      "metadata": {
        "id": "7gxx6XbkUC3M"
      },
      "source": [
        "| Expression         | Evaluates to |\n",
        "|--------------------|--------------|\n",
        "| True AND True      | True         |\n",
        "| True AND False     | False        |\n",
        "| False AND True     | False        |\n",
        "| False AND False    | False        |\n"
      ]
    },
    {
      "cell_type": "code",
      "execution_count": null,
      "metadata": {
        "id": "l9RdeJQAB5xv"
      },
      "outputs": [],
      "source": [
        "#"
      ]
    },
    {
      "cell_type": "code",
      "execution_count": null,
      "metadata": {
        "colab": {
          "base_uri": "https://localhost:8080/"
        },
        "id": "I0lOePxABlH8",
        "outputId": "94bcdd01-97c5-45a3-d826-212f052adde6"
      },
      "outputs": [
        {
          "data": {
            "text/plain": [
              "False"
            ]
          },
          "execution_count": 31,
          "metadata": {},
          "output_type": "execute_result"
        }
      ],
      "source": [
        "(4<3) and (5<6)\n"
      ]
    },
    {
      "cell_type": "code",
      "execution_count": null,
      "metadata": {
        "colab": {
          "base_uri": "https://localhost:8080/"
        },
        "id": "reJcZbVoUKrQ",
        "outputId": "388788b1-e0e7-4c81-b343-ba630c18f16f"
      },
      "outputs": [
        {
          "data": {
            "text/plain": [
              "False"
            ]
          },
          "execution_count": 32,
          "metadata": {},
          "output_type": "execute_result"
        }
      ],
      "source": [
        "(4<5) and (9<6)\n"
      ]
    },
    {
      "cell_type": "code",
      "execution_count": null,
      "metadata": {
        "colab": {
          "base_uri": "https://localhost:8080/"
        },
        "id": "igYYdPEoUQRA",
        "outputId": "833aabaa-3f7b-4989-bfc9-f5b14f895a28"
      },
      "outputs": [
        {
          "data": {
            "text/plain": [
              "True"
            ]
          },
          "execution_count": 33,
          "metadata": {},
          "output_type": "execute_result"
        }
      ],
      "source": [
        "(1==2) or (2==2)"
      ]
    },
    {
      "cell_type": "code",
      "execution_count": null,
      "metadata": {
        "id": "zs0d0o28UVgw"
      },
      "outputs": [],
      "source": []
    },
    {
      "cell_type": "markdown",
      "metadata": {
        "id": "ZZGzYs1JUdMh"
      },
      "source": [
        " elements of flow control\n",
        " * Flow control statements often start with a part called the condition, and all\n",
        "are followed by a block of code called the clause. Before you learn about\n",
        "Python’s specific flow control statements, I’ll cover what a condition and a\n",
        "block are.\n",
        "* Conditions:\n",
        " The Boolean expressions you’ve seen so far could all be considered con\n",
        "ditions, which are the same thing as expressions; condition is just a more\n",
        "specific name in the context of flow control statements. Conditions always\n",
        "evaluate down to a Boolean value, True or False. A flow control statement\n",
        "decides what to do based on whether its condition is True or False, and\n",
        "almost every flow control statement uses a condition"
      ]
    },
    {
      "cell_type": "markdown",
      "metadata": {
        "id": "-sCwXIsvWJUS"
      },
      "source": [
        "# Blocks of Code\n",
        " Lines of Python code can be grouped together in blocks. You can tell when a\n",
        "block begins and ends from the indentation of the lines of code. There are\n",
        "three rules for blocks.\n",
        " 1. Blocks begin when the indentation increases.\n",
        " 2. Blocks can contain other blocks.\n",
        " 3. Blocks end when the indentation decreases to zero or to a containing\n",
        "block’s indentation"
      ]
    },
    {
      "cell_type": "code",
      "execution_count": null,
      "metadata": {
        "colab": {
          "base_uri": "https://localhost:8080/",
          "height": 383
        },
        "id": "gPhMy5tPWOM_",
        "outputId": "dca11a56-076b-4c9b-aebe-0b8d60a4c155"
      },
      "outputs": [
        {
          "ename": "ImportError",
          "evalue": "cannot import name 'password' from 'os' (/usr/lib/python3.11/os.py)",
          "output_type": "error",
          "traceback": [
            "\u001b[0;31m---------------------------------------------------------------------------\u001b[0m",
            "\u001b[0;31mImportError\u001b[0m                               Traceback (most recent call last)",
            "\u001b[0;32m<ipython-input-35-7765ef59f1be>\u001b[0m in \u001b[0;36m<cell line: 0>\u001b[0;34m()\u001b[0m\n\u001b[0;32m----> 1\u001b[0;31m \u001b[0;32mfrom\u001b[0m \u001b[0mos\u001b[0m \u001b[0;32mimport\u001b[0m \u001b[0mname\u001b[0m\u001b[0;34m,\u001b[0m\u001b[0mpassword\u001b[0m\u001b[0;34m\u001b[0m\u001b[0;34m\u001b[0m\u001b[0m\n\u001b[0m\u001b[1;32m      2\u001b[0m \u001b[0;32mif\u001b[0m \u001b[0mname\u001b[0m \u001b[0;34m==\u001b[0m \u001b[0;34m'Mary '\u001b[0m\u001b[0;34m:\u001b[0m\u001b[0;34m\u001b[0m\u001b[0;34m\u001b[0m\u001b[0m\n\u001b[1;32m      3\u001b[0m   \u001b[0mprint\u001b[0m\u001b[0;34m(\u001b[0m\u001b[0;34m'Hello Mary'\u001b[0m\u001b[0;34m)\u001b[0m\u001b[0;34m\u001b[0m\u001b[0;34m\u001b[0m\u001b[0m\n\u001b[1;32m      4\u001b[0m \u001b[0;32mif\u001b[0m \u001b[0mpassword\u001b[0m \u001b[0;34m==\u001b[0m \u001b[0;34m'swordfish'\u001b[0m\u001b[0;34m:\u001b[0m\u001b[0;34m\u001b[0m\u001b[0;34m\u001b[0m\u001b[0m\n\u001b[1;32m      5\u001b[0m   \u001b[0mprint\u001b[0m\u001b[0;34m(\u001b[0m\u001b[0;34m'Access granted'\u001b[0m\u001b[0;34m)\u001b[0m\u001b[0;34m\u001b[0m\u001b[0;34m\u001b[0m\u001b[0m\n",
            "\u001b[0;31mImportError\u001b[0m: cannot import name 'password' from 'os' (/usr/lib/python3.11/os.py)",
            "",
            "\u001b[0;31m---------------------------------------------------------------------------\u001b[0;32m\nNOTE: If your import is failing due to a missing package, you can\nmanually install dependencies using either !pip or !apt.\n\nTo view examples of installing some common dependencies, click the\n\"Open Examples\" button below.\n\u001b[0;31m---------------------------------------------------------------------------\u001b[0m\n"
          ]
        }
      ],
      "source": [
        "#Blocks are easier to understand by looking at some indented code, so\n",
        "#let’s find the blocks in part of a small game program, shown here\n",
        "if name == 'Mary ':\n",
        "  print('Hello Mary')\n",
        "if password == 'swordfish':\n",
        "  print('Access granted')\n",
        "else:\n",
        "  print('Wrong password')"
      ]
    },
    {
      "cell_type": "markdown",
      "metadata": {
        "id": "-3kJB9siYdTZ"
      },
      "source": [
        "# flow control Statements\n",
        "*  if Statements\n"
      ]
    },
    {
      "cell_type": "markdown",
      "metadata": {
        "id": "YGHSt7UDY_CA"
      },
      "source": [
        "The most common type of flow control statement is the if statement. An if\n",
        "statement’s clause (that is, the block following the if statement) will execute\n",
        "if the statement’s condition is True. The clause is skipped if the condition is\n",
        "False.\n",
        " In plain English, an if statement could be read as, “If this condition is\n",
        "true, execute the code in the clause.” In Python, an if statement consists of\n",
        "the following:\n",
        " •\tThe if keyword\n",
        " •\tA condition (that is, an expression that evaluates to True or False)\n",
        " •\tA colon\n",
        " •\tStarting on the next line, an indented block of code (called the if clause)\n",
        " 38   Chapter 2\n",
        "For example, let’s say you have some code that checks to see whether\n",
        "someone’s name is Alice. (Pretend name was assigned some value earlier."
      ]
    },
    {
      "cell_type": "code",
      "execution_count": null,
      "metadata": {
        "id": "UmvYMJ2iZBcu"
      },
      "outputs": [],
      "source": [
        "if name == 'Alice':\n",
        "  print('Hi, Alice')"
      ]
    },
    {
      "cell_type": "code",
      "execution_count": null,
      "metadata": {
        "id": "w_SKiMfUaUfi"
      },
      "outputs": [],
      "source": []
    },
    {
      "cell_type": "markdown",
      "metadata": {
        "id": "ouqgMA2tWNtg"
      },
      "source": [
        "# else Statements\n",
        "An if clause can optionally be followed by an else statement. The else clause\n",
        "is executed only when the if statement’s condition is False. In plain English,\n",
        "an else statement could be read as, “If this condition is true, execute this\n",
        "code. Or else, execute that code.” An else statement doesn’t have a condi\n",
        "tion, and in code, an else statement always consists of the following:\n",
        "* The else keyword\n",
        "\n",
        "*   A colon\n",
        "*   Starting on the next line, an indented block of code (called the else\n",
        "clause)\n",
        "Returning to the Alice example, let’s look at some code that uses an\n",
        "else statement to offer a different greeting if the person’s name isn’t Alice"
      ]
    },
    {
      "cell_type": "code",
      "execution_count": null,
      "metadata": {
        "id": "-c49Yg1bampz"
      },
      "outputs": [],
      "source": [
        "if name == 'Alice':\n",
        "  print('Hi, Alice')\n",
        "else:\n",
        "  print('Hello Stranger')"
      ]
    },
    {
      "cell_type": "markdown",
      "metadata": {
        "id": "Rj00PVega0d7"
      },
      "source": [
        "# Starting on the next line, an indented block of code (called the else clause)\n",
        "\n",
        "While only one of the if or else clauses will execute, you may have a case\n",
        "where you want one of many possible clauses to execute. The elif statement\n",
        "is an “else if” statement that always follows an if or another elif statement.\n",
        "It provides another condition that is checked only if any of the previous con\n",
        "ditions were False. In code, an elif statement always consists of the following:\n",
        "\n",
        "* The elif keyword\n",
        "* A condition (that is, an expression that evaluates to True or False)\n",
        "* A colon\n",
        " * Starting on the next line, an indented block of code (called the elif clause\n",
        "\n",
        "\n"
      ]
    },
    {
      "cell_type": "code",
      "execution_count": null,
      "metadata": {
        "id": "Zt9fDx_dbH0_"
      },
      "outputs": [],
      "source": [
        "if name == 'Alice'\n",
        "  print('Hi, Alice')\n",
        "elif age < 12:\n",
        "  print('You are not Alice, kiddo.')"
      ]
    },
    {
      "cell_type": "code",
      "execution_count": null,
      "metadata": {
        "id": "58SeBBA098I6"
      },
      "outputs": [],
      "source": [
        "if name == 'Alice':\n",
        "    print('Hi, Alice.')\n",
        " elif age < 12:\n",
        "    print('You are not Alice, kiddo.')\n",
        " u elif age > 100:\n",
        "    print('You are not Alice, grannie.')\n",
        " elif age > 2000:\n",
        "    print('Unlike you, Alice is not an undead, immortal vampire.')"
      ]
    },
    {
      "cell_type": "markdown",
      "metadata": {
        "id": "VwdYoyQu97wZ"
      },
      "source": [
        "# while Loop Statements\n",
        "You can make a block of code execute over and over again with a while state\n",
        "ment. The code in a while clause will be executed as long as the while state\n",
        "ment’s condition is True. In code, a while statement always consists of the\n",
        "following:\n",
        " *\tThe while keyword\n",
        " *\tA condition (that is, an expression that evaluates to True or False)\n",
        " *\tA colon\n",
        " *\tStarting on the next line, an indented block of code (called the while\n",
        "clause"
      ]
    },
    {
      "cell_type": "markdown",
      "metadata": {
        "id": "3CRS0eKObHKi"
      },
      "source": []
    },
    {
      "cell_type": "code",
      "execution_count": null,
      "metadata": {
        "colab": {
          "base_uri": "https://localhost:8080/"
        },
        "id": "FaWB_Rxn-Pa6",
        "outputId": "90e8fd6a-11b2-4d5d-dffe-f644615930b4"
      },
      "outputs": [
        {
          "name": "stdout",
          "output_type": "stream",
          "text": [
            "Hello, world.\n"
          ]
        }
      ],
      "source": [
        "spam = 0\n",
        "if spam < 5:\n",
        "  print('Hello, world.')\n",
        "  spam = spam + 1"
      ]
    },
    {
      "cell_type": "code",
      "execution_count": null,
      "metadata": {
        "colab": {
          "base_uri": "https://localhost:8080/"
        },
        "id": "EjPAfnAM-YyZ",
        "outputId": "d00df738-c9b9-40ed-a8e0-fdc8ab96389c"
      },
      "outputs": [
        {
          "name": "stdout",
          "output_type": "stream",
          "text": [
            "Hello , world\n",
            "Hello , world\n",
            "Hello , world\n",
            "Hello , world\n",
            "Hello , world\n"
          ]
        }
      ],
      "source": [
        "#Here is the code with a while statement:\n",
        "spam = 0\n",
        "while spam < 5:\n",
        "  print('Hello , world')\n",
        "  spam = spam + 1\n"
      ]
    },
    {
      "cell_type": "markdown",
      "metadata": {
        "id": "2dfuOzVoAd8C"
      },
      "source": [
        "an annoying while Loop\n",
        "* First, the program sets the name variable u to an empty string. This is so\n",
        "that the name != 'your name' condition will evaluate to True and the program\n",
        "execution will enter the while loop’s clause.\n",
        "* The code inside this clause asks the user to type their name, which\n",
        "is assigned to the name variable w. Since this is the last line of the block,\n",
        "the execution moves back to the start of the while loop and reevaluates the\n",
        "condition. If the value in name is not equal to the string 'your name', then\n",
        "the condition is True, and the execution enters the while clause again."
      ]
    },
    {
      "cell_type": "code",
      "execution_count": null,
      "metadata": {
        "colab": {
          "base_uri": "https://localhost:8080/",
          "height": 547
        },
        "id": "hlmIAa30AfhJ",
        "outputId": "f3df4524-fa60-4a4e-edba-3a21291679de"
      },
      "outputs": [
        {
          "name": "stdout",
          "output_type": "stream",
          "text": [
            "print type your name \n",
            "roshan\n",
            "print type your name \n",
            "shrestha\n",
            "print type your name \n",
            "toshan\n",
            "print type your name \n",
            "rihfd\n",
            "print type your name \n",
            "fgdgs\n",
            "print type your name \n"
          ]
        },
        {
          "ename": "KeyboardInterrupt",
          "evalue": "Interrupted by user",
          "output_type": "error",
          "traceback": [
            "\u001b[0;31m---------------------------------------------------------------------------\u001b[0m",
            "\u001b[0;31mKeyboardInterrupt\u001b[0m                         Traceback (most recent call last)",
            "\u001b[0;32m<ipython-input-3-08d34a2ae35a>\u001b[0m in \u001b[0;36m<cell line: 0>\u001b[0;34m()\u001b[0m\n\u001b[1;32m      2\u001b[0m \u001b[0;32mwhile\u001b[0m \u001b[0mname\u001b[0m \u001b[0;34m!=\u001b[0m \u001b[0;34m'your name '\u001b[0m\u001b[0;34m:\u001b[0m\u001b[0;34m\u001b[0m\u001b[0;34m\u001b[0m\u001b[0m\n\u001b[1;32m      3\u001b[0m   \u001b[0mprint\u001b[0m \u001b[0;34m(\u001b[0m\u001b[0;34m'print type your name '\u001b[0m\u001b[0;34m)\u001b[0m\u001b[0;34m\u001b[0m\u001b[0;34m\u001b[0m\u001b[0m\n\u001b[0;32m----> 4\u001b[0;31m   \u001b[0mname\u001b[0m \u001b[0;34m=\u001b[0m \u001b[0minput\u001b[0m\u001b[0;34m(\u001b[0m\u001b[0;34m)\u001b[0m\u001b[0;34m\u001b[0m\u001b[0;34m\u001b[0m\u001b[0m\n\u001b[0m\u001b[1;32m      5\u001b[0m \u001b[0mprint\u001b[0m\u001b[0;34m(\u001b[0m\u001b[0;34m'Thank You'\u001b[0m\u001b[0;34m)\u001b[0m\u001b[0;34m\u001b[0m\u001b[0;34m\u001b[0m\u001b[0m\n",
            "\u001b[0;32m/usr/local/lib/python3.11/dist-packages/ipykernel/kernelbase.py\u001b[0m in \u001b[0;36mraw_input\u001b[0;34m(self, prompt)\u001b[0m\n\u001b[1;32m    849\u001b[0m                 \u001b[0;34m\"raw_input was called, but this frontend does not support input requests.\"\u001b[0m\u001b[0;34m\u001b[0m\u001b[0;34m\u001b[0m\u001b[0m\n\u001b[1;32m    850\u001b[0m             )\n\u001b[0;32m--> 851\u001b[0;31m         return self._input_request(str(prompt),\n\u001b[0m\u001b[1;32m    852\u001b[0m             \u001b[0mself\u001b[0m\u001b[0;34m.\u001b[0m\u001b[0m_parent_ident\u001b[0m\u001b[0;34m,\u001b[0m\u001b[0;34m\u001b[0m\u001b[0;34m\u001b[0m\u001b[0m\n\u001b[1;32m    853\u001b[0m             \u001b[0mself\u001b[0m\u001b[0;34m.\u001b[0m\u001b[0m_parent_header\u001b[0m\u001b[0;34m,\u001b[0m\u001b[0;34m\u001b[0m\u001b[0;34m\u001b[0m\u001b[0m\n",
            "\u001b[0;32m/usr/local/lib/python3.11/dist-packages/ipykernel/kernelbase.py\u001b[0m in \u001b[0;36m_input_request\u001b[0;34m(self, prompt, ident, parent, password)\u001b[0m\n\u001b[1;32m    893\u001b[0m             \u001b[0;32mexcept\u001b[0m \u001b[0mKeyboardInterrupt\u001b[0m\u001b[0;34m:\u001b[0m\u001b[0;34m\u001b[0m\u001b[0;34m\u001b[0m\u001b[0m\n\u001b[1;32m    894\u001b[0m                 \u001b[0;31m# re-raise KeyboardInterrupt, to truncate traceback\u001b[0m\u001b[0;34m\u001b[0m\u001b[0;34m\u001b[0m\u001b[0m\n\u001b[0;32m--> 895\u001b[0;31m                 \u001b[0;32mraise\u001b[0m \u001b[0mKeyboardInterrupt\u001b[0m\u001b[0;34m(\u001b[0m\u001b[0;34m\"Interrupted by user\"\u001b[0m\u001b[0;34m)\u001b[0m \u001b[0;32mfrom\u001b[0m \u001b[0;32mNone\u001b[0m\u001b[0;34m\u001b[0m\u001b[0;34m\u001b[0m\u001b[0m\n\u001b[0m\u001b[1;32m    896\u001b[0m             \u001b[0;32mexcept\u001b[0m \u001b[0mException\u001b[0m \u001b[0;32mas\u001b[0m \u001b[0me\u001b[0m\u001b[0;34m:\u001b[0m\u001b[0;34m\u001b[0m\u001b[0;34m\u001b[0m\u001b[0m\n\u001b[1;32m    897\u001b[0m                 \u001b[0mself\u001b[0m\u001b[0;34m.\u001b[0m\u001b[0mlog\u001b[0m\u001b[0;34m.\u001b[0m\u001b[0mwarning\u001b[0m\u001b[0;34m(\u001b[0m\u001b[0;34m\"Invalid Message:\"\u001b[0m\u001b[0;34m,\u001b[0m \u001b[0mexc_info\u001b[0m\u001b[0;34m=\u001b[0m\u001b[0;32mTrue\u001b[0m\u001b[0;34m)\u001b[0m\u001b[0;34m\u001b[0m\u001b[0;34m\u001b[0m\u001b[0m\n",
            "\u001b[0;31mKeyboardInterrupt\u001b[0m: Interrupted by user"
          ]
        }
      ],
      "source": [
        "name = ''\n",
        "while name != 'your name ':\n",
        "  print ('print type your name ')\n",
        "  name = input()\n",
        "print('Thank You')\n"
      ]
    },
    {
      "cell_type": "code",
      "execution_count": null,
      "metadata": {
        "colab": {
          "base_uri": "https://localhost:8080/",
          "height": 686
        },
        "id": "CXPxfTACBGoR",
        "outputId": "d91eb8b8-80db-4978-921a-e7c2af9662b1"
      },
      "outputs": [
        {
          "name": "stdout",
          "output_type": "stream",
          "text": [
            "print type your name \n",
            "dfg\n",
            "print type your name \n",
            "dfs\n",
            "print type your name \n",
            "roshan\n",
            "print type your name \n",
            "your name\n",
            "print type your name \n",
            "your name\n",
            "print type your name \n",
            "fdg\n",
            "dg\n",
            "print type your name \n",
            "print type your name \n",
            "b\n",
            "print type your name \n",
            "roshangfbaef\n",
            "print type your name \n"
          ]
        },
        {
          "ename": "KeyboardInterrupt",
          "evalue": "Interrupted by user",
          "output_type": "error",
          "traceback": [
            "\u001b[0;31m---------------------------------------------------------------------------\u001b[0m",
            "\u001b[0;31mKeyboardInterrupt\u001b[0m                         Traceback (most recent call last)",
            "\u001b[0;32m<ipython-input-4-e8c54f2f152a>\u001b[0m in \u001b[0;36m<cell line: 0>\u001b[0;34m()\u001b[0m\n\u001b[1;32m      2\u001b[0m \u001b[0;32mwhile\u001b[0m \u001b[0mname\u001b[0m \u001b[0;34m!=\u001b[0m \u001b[0;34m'your name '\u001b[0m\u001b[0;34m:\u001b[0m\u001b[0;34m\u001b[0m\u001b[0;34m\u001b[0m\u001b[0m\n\u001b[1;32m      3\u001b[0m   \u001b[0mprint\u001b[0m \u001b[0;34m(\u001b[0m\u001b[0;34m'print type your name '\u001b[0m\u001b[0;34m)\u001b[0m\u001b[0;34m\u001b[0m\u001b[0;34m\u001b[0m\u001b[0m\n\u001b[0;32m----> 4\u001b[0;31m   \u001b[0mname\u001b[0m \u001b[0;34m=\u001b[0m \u001b[0minput\u001b[0m\u001b[0;34m(\u001b[0m\u001b[0;34m)\u001b[0m\u001b[0;34m\u001b[0m\u001b[0;34m\u001b[0m\u001b[0m\n\u001b[0m\u001b[1;32m      5\u001b[0m \u001b[0mprint\u001b[0m\u001b[0;34m(\u001b[0m\u001b[0;34m'Thank You'\u001b[0m\u001b[0;34m)\u001b[0m\u001b[0;34m\u001b[0m\u001b[0;34m\u001b[0m\u001b[0m\n",
            "\u001b[0;32m/usr/local/lib/python3.11/dist-packages/ipykernel/kernelbase.py\u001b[0m in \u001b[0;36mraw_input\u001b[0;34m(self, prompt)\u001b[0m\n\u001b[1;32m    849\u001b[0m                 \u001b[0;34m\"raw_input was called, but this frontend does not support input requests.\"\u001b[0m\u001b[0;34m\u001b[0m\u001b[0;34m\u001b[0m\u001b[0m\n\u001b[1;32m    850\u001b[0m             )\n\u001b[0;32m--> 851\u001b[0;31m         return self._input_request(str(prompt),\n\u001b[0m\u001b[1;32m    852\u001b[0m             \u001b[0mself\u001b[0m\u001b[0;34m.\u001b[0m\u001b[0m_parent_ident\u001b[0m\u001b[0;34m,\u001b[0m\u001b[0;34m\u001b[0m\u001b[0;34m\u001b[0m\u001b[0m\n\u001b[1;32m    853\u001b[0m             \u001b[0mself\u001b[0m\u001b[0;34m.\u001b[0m\u001b[0m_parent_header\u001b[0m\u001b[0;34m,\u001b[0m\u001b[0;34m\u001b[0m\u001b[0;34m\u001b[0m\u001b[0m\n",
            "\u001b[0;32m/usr/local/lib/python3.11/dist-packages/ipykernel/kernelbase.py\u001b[0m in \u001b[0;36m_input_request\u001b[0;34m(self, prompt, ident, parent, password)\u001b[0m\n\u001b[1;32m    893\u001b[0m             \u001b[0;32mexcept\u001b[0m \u001b[0mKeyboardInterrupt\u001b[0m\u001b[0;34m:\u001b[0m\u001b[0;34m\u001b[0m\u001b[0;34m\u001b[0m\u001b[0m\n\u001b[1;32m    894\u001b[0m                 \u001b[0;31m# re-raise KeyboardInterrupt, to truncate traceback\u001b[0m\u001b[0;34m\u001b[0m\u001b[0;34m\u001b[0m\u001b[0m\n\u001b[0;32m--> 895\u001b[0;31m                 \u001b[0;32mraise\u001b[0m \u001b[0mKeyboardInterrupt\u001b[0m\u001b[0;34m(\u001b[0m\u001b[0;34m\"Interrupted by user\"\u001b[0m\u001b[0;34m)\u001b[0m \u001b[0;32mfrom\u001b[0m \u001b[0;32mNone\u001b[0m\u001b[0;34m\u001b[0m\u001b[0;34m\u001b[0m\u001b[0m\n\u001b[0m\u001b[1;32m    896\u001b[0m             \u001b[0;32mexcept\u001b[0m \u001b[0mException\u001b[0m \u001b[0;32mas\u001b[0m \u001b[0me\u001b[0m\u001b[0;34m:\u001b[0m\u001b[0;34m\u001b[0m\u001b[0;34m\u001b[0m\u001b[0m\n\u001b[1;32m    897\u001b[0m                 \u001b[0mself\u001b[0m\u001b[0;34m.\u001b[0m\u001b[0mlog\u001b[0m\u001b[0;34m.\u001b[0m\u001b[0mwarning\u001b[0m\u001b[0;34m(\u001b[0m\u001b[0;34m\"Invalid Message:\"\u001b[0m\u001b[0;34m,\u001b[0m \u001b[0mexc_info\u001b[0m\u001b[0;34m=\u001b[0m\u001b[0;32mTrue\u001b[0m\u001b[0;34m)\u001b[0m\u001b[0;34m\u001b[0m\u001b[0;34m\u001b[0m\u001b[0m\n",
            "\u001b[0;31mKeyboardInterrupt\u001b[0m: Interrupted by user"
          ]
        }
      ],
      "source": [
        "name = 'roshan'\n",
        "while name != 'your name ':\n",
        "  print ('print type your name ')\n",
        "  name = input()\n",
        "print('Thank You')\n"
      ]
    },
    {
      "cell_type": "code",
      "execution_count": null,
      "metadata": {
        "colab": {
          "base_uri": "https://localhost:8080/",
          "height": 443
        },
        "id": "9Sh7Ql70BrXw",
        "outputId": "2b977c73-11e6-4662-b13a-749a8b776691"
      },
      "outputs": [
        {
          "output_type": "stream",
          "name": "stdout",
          "text": [
            "print type your name \n",
            "roshan\n",
            "print type your name \n",
            "your naem\n",
            "print type your name \n"
          ]
        },
        {
          "output_type": "error",
          "ename": "KeyboardInterrupt",
          "evalue": "Interrupted by user",
          "traceback": [
            "\u001b[0;31m---------------------------------------------------------------------------\u001b[0m",
            "\u001b[0;31mKeyboardInterrupt\u001b[0m                         Traceback (most recent call last)",
            "\u001b[0;32m<ipython-input-1-bb7166d41347>\u001b[0m in \u001b[0;36m<cell line: 0>\u001b[0;34m()\u001b[0m\n\u001b[1;32m      2\u001b[0m \u001b[0;32mwhile\u001b[0m \u001b[0mname\u001b[0m \u001b[0;34m!=\u001b[0m \u001b[0;34m'your name '\u001b[0m\u001b[0;34m:\u001b[0m\u001b[0;34m\u001b[0m\u001b[0;34m\u001b[0m\u001b[0m\n\u001b[1;32m      3\u001b[0m   \u001b[0mprint\u001b[0m \u001b[0;34m(\u001b[0m\u001b[0;34m'print type your name '\u001b[0m\u001b[0;34m)\u001b[0m\u001b[0;34m\u001b[0m\u001b[0;34m\u001b[0m\u001b[0m\n\u001b[0;32m----> 4\u001b[0;31m   \u001b[0mname\u001b[0m \u001b[0;34m=\u001b[0m \u001b[0minput\u001b[0m\u001b[0;34m(\u001b[0m\u001b[0;34m)\u001b[0m\u001b[0;34m\u001b[0m\u001b[0;34m\u001b[0m\u001b[0m\n\u001b[0m\u001b[1;32m      5\u001b[0m   \u001b[0;32mif\u001b[0m \u001b[0mname\u001b[0m \u001b[0;34m==\u001b[0m \u001b[0;34m'your name '\u001b[0m\u001b[0;34m:\u001b[0m\u001b[0;34m\u001b[0m\u001b[0;34m\u001b[0m\u001b[0m\n\u001b[1;32m      6\u001b[0m     \u001b[0;32mbreak\u001b[0m\u001b[0;34m\u001b[0m\u001b[0;34m\u001b[0m\u001b[0m\n",
            "\u001b[0;32m/usr/local/lib/python3.11/dist-packages/ipykernel/kernelbase.py\u001b[0m in \u001b[0;36mraw_input\u001b[0;34m(self, prompt)\u001b[0m\n\u001b[1;32m    849\u001b[0m                 \u001b[0;34m\"raw_input was called, but this frontend does not support input requests.\"\u001b[0m\u001b[0;34m\u001b[0m\u001b[0;34m\u001b[0m\u001b[0m\n\u001b[1;32m    850\u001b[0m             )\n\u001b[0;32m--> 851\u001b[0;31m         return self._input_request(str(prompt),\n\u001b[0m\u001b[1;32m    852\u001b[0m             \u001b[0mself\u001b[0m\u001b[0;34m.\u001b[0m\u001b[0m_parent_ident\u001b[0m\u001b[0;34m,\u001b[0m\u001b[0;34m\u001b[0m\u001b[0;34m\u001b[0m\u001b[0m\n\u001b[1;32m    853\u001b[0m             \u001b[0mself\u001b[0m\u001b[0;34m.\u001b[0m\u001b[0m_parent_header\u001b[0m\u001b[0;34m,\u001b[0m\u001b[0;34m\u001b[0m\u001b[0;34m\u001b[0m\u001b[0m\n",
            "\u001b[0;32m/usr/local/lib/python3.11/dist-packages/ipykernel/kernelbase.py\u001b[0m in \u001b[0;36m_input_request\u001b[0;34m(self, prompt, ident, parent, password)\u001b[0m\n\u001b[1;32m    893\u001b[0m             \u001b[0;32mexcept\u001b[0m \u001b[0mKeyboardInterrupt\u001b[0m\u001b[0;34m:\u001b[0m\u001b[0;34m\u001b[0m\u001b[0;34m\u001b[0m\u001b[0m\n\u001b[1;32m    894\u001b[0m                 \u001b[0;31m# re-raise KeyboardInterrupt, to truncate traceback\u001b[0m\u001b[0;34m\u001b[0m\u001b[0;34m\u001b[0m\u001b[0m\n\u001b[0;32m--> 895\u001b[0;31m                 \u001b[0;32mraise\u001b[0m \u001b[0mKeyboardInterrupt\u001b[0m\u001b[0;34m(\u001b[0m\u001b[0;34m\"Interrupted by user\"\u001b[0m\u001b[0;34m)\u001b[0m \u001b[0;32mfrom\u001b[0m \u001b[0;32mNone\u001b[0m\u001b[0;34m\u001b[0m\u001b[0;34m\u001b[0m\u001b[0m\n\u001b[0m\u001b[1;32m    896\u001b[0m             \u001b[0;32mexcept\u001b[0m \u001b[0mException\u001b[0m \u001b[0;32mas\u001b[0m \u001b[0me\u001b[0m\u001b[0;34m:\u001b[0m\u001b[0;34m\u001b[0m\u001b[0;34m\u001b[0m\u001b[0m\n\u001b[1;32m    897\u001b[0m                 \u001b[0mself\u001b[0m\u001b[0;34m.\u001b[0m\u001b[0mlog\u001b[0m\u001b[0;34m.\u001b[0m\u001b[0mwarning\u001b[0m\u001b[0;34m(\u001b[0m\u001b[0;34m\"Invalid Message:\"\u001b[0m\u001b[0;34m,\u001b[0m \u001b[0mexc_info\u001b[0m\u001b[0;34m=\u001b[0m\u001b[0;32mTrue\u001b[0m\u001b[0;34m)\u001b[0m\u001b[0;34m\u001b[0m\u001b[0;34m\u001b[0m\u001b[0m\n",
            "\u001b[0;31mKeyboardInterrupt\u001b[0m: Interrupted by user"
          ]
        }
      ],
      "source": [
        "name = 'roshan'\n",
        "while name != 'your name ':\n",
        "  print ('print type your name ')\n",
        "  name = input()\n",
        "  if name == 'your name ':\n",
        "    break\n",
        "print('Thank You')"
      ]
    },
    {
      "cell_type": "code",
      "source": [
        "while True:\n",
        "    print('Who are you?')\n",
        "    name = input()\n",
        "    if name != 'Joe':\n",
        "\n",
        "         continue\n",
        "    print('Hello, Joe. What is the password? (It is a fish.)')\n",
        "    password = input()\n",
        "    if password == 'swordfish':\n",
        "      break\n",
        "print('Access granted.')"
      ],
      "metadata": {
        "colab": {
          "base_uri": "https://localhost:8080/"
        },
        "id": "lxJZ3RUHmn0K",
        "outputId": "c0b15ef1-9e58-44ab-c171-4966f08fd847"
      },
      "execution_count": null,
      "outputs": [
        {
          "output_type": "stream",
          "name": "stdout",
          "text": [
            "Who are you?\n",
            "roshan\n",
            "Who are you?\n",
            "tiy\n",
            "Who are you?\n",
            "Joe\n",
            "Hello, Joe. What is the password? (It is a fish.)\n",
            "swordfish\n",
            "Access granted.\n"
          ]
        }
      ]
    },
    {
      "cell_type": "code",
      "source": [
        "while True:\n",
        "  print('Who are you?')\n",
        "  name = input()\n",
        "  if name != 'Roshan':\n",
        "\n",
        "    continue\n",
        "  print('Hello Roshan. What is your password')\n",
        "  password = input()\n",
        "  if password == 'Nepal':\n",
        "    break\n",
        "  print(\"Access Granted\")"
      ],
      "metadata": {
        "colab": {
          "base_uri": "https://localhost:8080/",
          "height": 460
        },
        "id": "-SMANBHhnQen",
        "outputId": "c9f1b6e2-6fbd-4447-b103-58c8a642415f"
      },
      "execution_count": null,
      "outputs": [
        {
          "output_type": "stream",
          "name": "stdout",
          "text": [
            "Who are you?\n",
            "Roshan\n",
            "Hello Roshan. What is your password\n",
            "Nrpal\n",
            "Access Granted\n",
            "Who are you?\n"
          ]
        },
        {
          "output_type": "error",
          "ename": "KeyboardInterrupt",
          "evalue": "Interrupted by user",
          "traceback": [
            "\u001b[0;31m---------------------------------------------------------------------------\u001b[0m",
            "\u001b[0;31mKeyboardInterrupt\u001b[0m                         Traceback (most recent call last)",
            "\u001b[0;32m<ipython-input-3-3a49aab3d020>\u001b[0m in \u001b[0;36m<cell line: 0>\u001b[0;34m()\u001b[0m\n\u001b[1;32m      1\u001b[0m \u001b[0;32mwhile\u001b[0m \u001b[0;32mTrue\u001b[0m\u001b[0;34m:\u001b[0m\u001b[0;34m\u001b[0m\u001b[0;34m\u001b[0m\u001b[0m\n\u001b[1;32m      2\u001b[0m   \u001b[0mprint\u001b[0m\u001b[0;34m(\u001b[0m\u001b[0;34m'Who are you?'\u001b[0m\u001b[0;34m)\u001b[0m\u001b[0;34m\u001b[0m\u001b[0;34m\u001b[0m\u001b[0m\n\u001b[0;32m----> 3\u001b[0;31m   \u001b[0mname\u001b[0m \u001b[0;34m=\u001b[0m \u001b[0minput\u001b[0m\u001b[0;34m(\u001b[0m\u001b[0;34m)\u001b[0m\u001b[0;34m\u001b[0m\u001b[0;34m\u001b[0m\u001b[0m\n\u001b[0m\u001b[1;32m      4\u001b[0m   \u001b[0;32mif\u001b[0m \u001b[0mname\u001b[0m \u001b[0;34m!=\u001b[0m \u001b[0;34m'Roshan'\u001b[0m\u001b[0;34m:\u001b[0m\u001b[0;34m\u001b[0m\u001b[0;34m\u001b[0m\u001b[0m\n\u001b[1;32m      5\u001b[0m \u001b[0;34m\u001b[0m\u001b[0m\n",
            "\u001b[0;32m/usr/local/lib/python3.11/dist-packages/ipykernel/kernelbase.py\u001b[0m in \u001b[0;36mraw_input\u001b[0;34m(self, prompt)\u001b[0m\n\u001b[1;32m    849\u001b[0m                 \u001b[0;34m\"raw_input was called, but this frontend does not support input requests.\"\u001b[0m\u001b[0;34m\u001b[0m\u001b[0;34m\u001b[0m\u001b[0m\n\u001b[1;32m    850\u001b[0m             )\n\u001b[0;32m--> 851\u001b[0;31m         return self._input_request(str(prompt),\n\u001b[0m\u001b[1;32m    852\u001b[0m             \u001b[0mself\u001b[0m\u001b[0;34m.\u001b[0m\u001b[0m_parent_ident\u001b[0m\u001b[0;34m,\u001b[0m\u001b[0;34m\u001b[0m\u001b[0;34m\u001b[0m\u001b[0m\n\u001b[1;32m    853\u001b[0m             \u001b[0mself\u001b[0m\u001b[0;34m.\u001b[0m\u001b[0m_parent_header\u001b[0m\u001b[0;34m,\u001b[0m\u001b[0;34m\u001b[0m\u001b[0;34m\u001b[0m\u001b[0m\n",
            "\u001b[0;32m/usr/local/lib/python3.11/dist-packages/ipykernel/kernelbase.py\u001b[0m in \u001b[0;36m_input_request\u001b[0;34m(self, prompt, ident, parent, password)\u001b[0m\n\u001b[1;32m    893\u001b[0m             \u001b[0;32mexcept\u001b[0m \u001b[0mKeyboardInterrupt\u001b[0m\u001b[0;34m:\u001b[0m\u001b[0;34m\u001b[0m\u001b[0;34m\u001b[0m\u001b[0m\n\u001b[1;32m    894\u001b[0m                 \u001b[0;31m# re-raise KeyboardInterrupt, to truncate traceback\u001b[0m\u001b[0;34m\u001b[0m\u001b[0;34m\u001b[0m\u001b[0m\n\u001b[0;32m--> 895\u001b[0;31m                 \u001b[0;32mraise\u001b[0m \u001b[0mKeyboardInterrupt\u001b[0m\u001b[0;34m(\u001b[0m\u001b[0;34m\"Interrupted by user\"\u001b[0m\u001b[0;34m)\u001b[0m \u001b[0;32mfrom\u001b[0m \u001b[0;32mNone\u001b[0m\u001b[0;34m\u001b[0m\u001b[0;34m\u001b[0m\u001b[0m\n\u001b[0m\u001b[1;32m    896\u001b[0m             \u001b[0;32mexcept\u001b[0m \u001b[0mException\u001b[0m \u001b[0;32mas\u001b[0m \u001b[0me\u001b[0m\u001b[0;34m:\u001b[0m\u001b[0;34m\u001b[0m\u001b[0;34m\u001b[0m\u001b[0m\n\u001b[1;32m    897\u001b[0m                 \u001b[0mself\u001b[0m\u001b[0;34m.\u001b[0m\u001b[0mlog\u001b[0m\u001b[0;34m.\u001b[0m\u001b[0mwarning\u001b[0m\u001b[0;34m(\u001b[0m\u001b[0;34m\"Invalid Message:\"\u001b[0m\u001b[0;34m,\u001b[0m \u001b[0mexc_info\u001b[0m\u001b[0;34m=\u001b[0m\u001b[0;32mTrue\u001b[0m\u001b[0;34m)\u001b[0m\u001b[0;34m\u001b[0m\u001b[0;34m\u001b[0m\u001b[0m\n",
            "\u001b[0;31mKeyboardInterrupt\u001b[0m: Interrupted by user"
          ]
        }
      ]
    },
    {
      "cell_type": "code",
      "source": [
        "name = ''\n",
        "while not name:\n",
        "  print ('Enter your name: ')\n",
        "  name = input()\n",
        "\n",
        "print('How many guest will you have?')\n",
        "noOfguests = int(input())\n",
        "if noOfguests:\n",
        "  print('Be sure to have enough room for the your guests')\n",
        "print('Done')"
      ],
      "metadata": {
        "colab": {
          "base_uri": "https://localhost:8080/"
        },
        "id": "C7O320bAn-9G",
        "outputId": "53082dec-125d-4181-fdd1-c29be68c90d3"
      },
      "execution_count": null,
      "outputs": [
        {
          "output_type": "stream",
          "name": "stdout",
          "text": [
            "Enter your name: \n",
            "Roshan\n",
            "How many guest will you have?\n",
            "50\n",
            "Be sure to have enough room for the your guests\n",
            "Done\n"
          ]
        }
      ]
    }
  ],
  "metadata": {
    "colab": {
      "provenance": [],
      "authorship_tag": "ABX9TyM2e0wFjngkrjT+QQZGZ3ED",
      "include_colab_link": true
    },
    "kernelspec": {
      "display_name": "Python 3",
      "name": "python3"
    },
    "language_info": {
      "name": "python"
    }
  },
  "nbformat": 4,
  "nbformat_minor": 0
}