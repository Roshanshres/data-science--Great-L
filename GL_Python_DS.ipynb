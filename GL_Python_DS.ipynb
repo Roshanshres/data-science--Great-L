{
  "nbformat": 4,
  "nbformat_minor": 0,
  "metadata": {
    "colab": {
      "provenance": [],
      "authorship_tag": "ABX9TyMlREuylPXjqaqYSAPAbmol",
      "include_colab_link": true
    },
    "kernelspec": {
      "name": "python3",
      "display_name": "Python 3"
    },
    "language_info": {
      "name": "python"
    }
  },
  "cells": [
    {
      "cell_type": "markdown",
      "metadata": {
        "id": "view-in-github",
        "colab_type": "text"
      },
      "source": [
        "<a href=\"https://colab.research.google.com/github/Roshanshres/data-science--Great-L/blob/main/GL_Python_DS.ipynb\" target=\"_parent\"><img src=\"https://colab.research.google.com/assets/colab-badge.svg\" alt=\"Open In Colab\"/></a>"
      ]
    },
    {
      "cell_type": "code",
      "execution_count": null,
      "metadata": {
        "id": "gAIsQnQB8ECW"
      },
      "outputs": [],
      "source": []
    },
    {
      "cell_type": "markdown",
      "source": [
        "# **Variable **\n",
        "* Data or value can be stored in temporay storage space is called Variable.\n",
        "or Container to store value.\n",
        "* Every Variable is associated with the data type.\n",
        "* assigning the value\n",
        "* variable in python is dynamic\n",
        "\n"
      ],
      "metadata": {
        "id": "FyIy-pvN-nV9"
      }
    },
    {
      "cell_type": "code",
      "source": [
        "student = \"Jhon\"\n"
      ],
      "metadata": {
        "id": "w5Ka3_sCK88S"
      },
      "execution_count": 1,
      "outputs": []
    },
    {
      "cell_type": "code",
      "source": [
        "student"
      ],
      "metadata": {
        "colab": {
          "base_uri": "https://localhost:8080/",
          "height": 35
        },
        "id": "Be6P-gv4LAog",
        "outputId": "016e67af-0833-4820-fcd7-e4c1c5192c9d"
      },
      "execution_count": 2,
      "outputs": [
        {
          "output_type": "execute_result",
          "data": {
            "text/plain": [
              "'Jhon'"
            ],
            "application/vnd.google.colaboratory.intrinsic+json": {
              "type": "string"
            }
          },
          "metadata": {},
          "execution_count": 2
        }
      ]
    },
    {
      "cell_type": "code",
      "source": [],
      "metadata": {
        "id": "xIbGuoTRMEvm"
      },
      "execution_count": null,
      "outputs": []
    },
    {
      "cell_type": "code",
      "source": [
        "student = \"Sam\" # variable are dynamic so its temporary it change as the value change.\n"
      ],
      "metadata": {
        "id": "pR5ilYdELAeB"
      },
      "execution_count": 3,
      "outputs": []
    },
    {
      "cell_type": "code",
      "source": [
        "student"
      ],
      "metadata": {
        "colab": {
          "base_uri": "https://localhost:8080/",
          "height": 35
        },
        "id": "bnCa6q8BLMFe",
        "outputId": "6a5fd043-fd9b-4f30-9946-323de109cca7"
      },
      "execution_count": 4,
      "outputs": [
        {
          "output_type": "execute_result",
          "data": {
            "text/plain": [
              "'Sam'"
            ],
            "application/vnd.google.colaboratory.intrinsic+json": {
              "type": "string"
            }
          },
          "metadata": {},
          "execution_count": 4
        }
      ]
    },
    {
      "cell_type": "code",
      "source": [],
      "metadata": {
        "id": "qB3QUJt7LNAh"
      },
      "execution_count": null,
      "outputs": []
    }
  ]
}