{
  "nbformat": 4,
  "nbformat_minor": 0,
  "metadata": {
    "colab": {
      "provenance": [],
      "authorship_tag": "ABX9TyM0tUoZ173uqODhW3GLe2m9",
      "include_colab_link": true
    },
    "kernelspec": {
      "name": "python3",
      "display_name": "Python 3"
    },
    "language_info": {
      "name": "python"
    }
  },
  "cells": [
    {
      "cell_type": "markdown",
      "metadata": {
        "id": "view-in-github",
        "colab_type": "text"
      },
      "source": [
        "<a href=\"https://colab.research.google.com/github/Roshanshres/data-science--Great-L/blob/main/GL_Python_DS.ipynb\" target=\"_parent\"><img src=\"https://colab.research.google.com/assets/colab-badge.svg\" alt=\"Open In Colab\"/></a>"
      ]
    },
    {
      "cell_type": "code",
      "execution_count": null,
      "metadata": {
        "id": "gAIsQnQB8ECW"
      },
      "outputs": [],
      "source": []
    },
    {
      "cell_type": "markdown",
      "source": [
        "# **Variable **\n",
        "* Data or value can be stored in temporay storage space is called Variable.\n",
        "or Container to store value\n",
        "*Every Variable is associated with the data type.\n",
        "* assigning the value\n",
        "* variable in python is dynamic\n",
        "\n"
      ],
      "metadata": {
        "id": "FyIy-pvN-nV9"
      }
    }
  ]
}